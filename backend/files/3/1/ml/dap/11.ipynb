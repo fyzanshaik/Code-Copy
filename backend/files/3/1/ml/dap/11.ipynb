{
  "nbformat": 4,
  "nbformat_minor": 0,
  "metadata": {
    "colab": {
      "provenance": []
    },
    "kernelspec": {
      "name": "python3",
      "display_name": "Python 3"
    },
    "language_info": {
      "name": "python"
    }
  },
  "cells": [
    {
      "cell_type": "markdown",
      "source": [
        "**Data Analysis with Python Week 11 Session**"
      ],
      "metadata": {
        "id": "5jg8ox1PBRel"
      }
    },
    {
      "cell_type": "code",
      "execution_count": null,
      "metadata": {
        "colab": {
          "base_uri": "https://localhost:8080/"
        },
        "id": "exYvt47dBOpw",
        "outputId": "60ddb60a-e0aa-4d17-a11a-6e95e9f93111"
      },
      "outputs": [
        {
          "output_type": "stream",
          "name": "stdout",
          "text": [
            "[[ 1  2  3  4]\n",
            " [ 5  6  7  8]\n",
            " [ 9 10 11 12]]\n",
            "Mean along the second axis: [ 2.5  6.5 10.5]\n",
            "Median along the second axis: [ 2.5  6.5 10.5]\n",
            "Standard deviation along the second axis: [1.11803399 1.11803399 1.11803399]\n",
            "Variance along the second axis: [1.25 1.25 1.25]\n"
          ]
        }
      ],
      "source": [
        "# Importing a package\n",
        "# Import package_name as alias name\n",
        "import numpy as np\n",
        "# Create an 2-D array\n",
        "# arrayname=aliasname.array([[d1][d2]]\n",
        "a=np.array([[1,2,3,4],[5,6,7,8],[9,10,11,12]])\n",
        "print(a)\n",
        "'''Computing the mean, median, standard deviation, and variance of a given array\n",
        "   along the second axis'''\n",
        "# Syntax --> np.mean(arrayname, axis=1)\n",
        "# Syntax --> np.median(arrayname, axis=1)\n",
        "# Syntax --> np.std(arrayname, axis=1)\n",
        "# Syntax --> np.var(arrayname, axis=1)\n",
        "mean = np.mean(a, axis=1)\n",
        "median=np.median(a, axis=1)\n",
        "std_dev = np.std(a, axis=1)\n",
        "variance = np.var(a, axis=1)\n",
        "'''Printing the mean, median, standard deviation, and variance of a given array\n",
        "   along the second axis'''\n",
        "print(\"Mean along the second axis:\", mean)\n",
        "print(\"Median along the second axis:\", median)\n",
        "print(\"Standard deviation along the second axis:\", std_dev)\n",
        "print(\"Variance along the second axis:\", variance)"
      ]
    },
    {
      "cell_type": "code",
      "source": [
        "'''Computing the mean, median, standard deviation, and variance of a given array\n",
        "   along the first axis'''\n",
        "# Syntax --> np.mean(arrayname, axis=0)\n",
        "# Syntax --> np.median(arrayname, axis=0)\n",
        "# Syntax --> np.std(arrayname, axis=0)\n",
        "# Syntax --> np.var(arrayname, axis=0)\n",
        "mean = np.mean(a, axis=0)\n",
        "median=np.median(a, axis=0)\n",
        "std_dev = np.std(a, axis=0)\n",
        "variance = np.var(a, axis=0)\n",
        "'''Printing the mean, median, standard deviation, and variance of a given array\n",
        "   along the first axis'''\n",
        "print(\"Mean along the second axis:\", mean)\n",
        "print(\"Median along the second axis:\", median)\n",
        "print(\"Standard deviation along the second axis:\", std_dev)\n",
        "print(\"Variance along the second axis:\", variance)"
      ],
      "metadata": {
        "colab": {
          "base_uri": "https://localhost:8080/"
        },
        "id": "lGsnU73kBX9N",
        "outputId": "9c698f4c-2692-4f09-fa86-fc2bae7783b7"
      },
      "execution_count": null,
      "outputs": [
        {
          "output_type": "stream",
          "name": "stdout",
          "text": [
            "Mean along the second axis: [5. 6. 7. 8.]\n",
            "Median along the second axis: [5. 6. 7. 8.]\n",
            "Standard deviation along the second axis: [3.26598632 3.26598632 3.26598632 3.26598632]\n",
            "Variance along the second axis: [10.66666667 10.66666667 10.66666667 10.66666667]\n"
          ]
        }
      ]
    }
  ]
}